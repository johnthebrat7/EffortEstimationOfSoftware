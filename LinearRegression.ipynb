{
 "cells": [
  {
   "cell_type": "code",
   "execution_count": 18,
   "id": "51a61fe5-9930-4dc6-8b01-54fe28b93e62",
   "metadata": {},
   "outputs": [
    {
     "data": {
      "text/plain": [
       "Index(['embedded', 'organic', 'semidetached', 'num', 'dev_mode', 'rely',\n",
       "       'data', 'cplx', 'time', 'stor', 'virt', 'turn', 'acap', 'aexp', 'pcap',\n",
       "       'vexp', 'lexp', 'modp', 'tool', 'sced', 'loc', 'actual'],\n",
       "      dtype='object')"
      ]
     },
     "execution_count": 18,
     "metadata": {},
     "output_type": "execute_result"
    }
   ],
   "source": [
    "import pandas as pd\n",
    "import numpy as np\n",
    "import seaborn as sns\n",
    "import matplotlib.pyplot as plt\n",
    "\n",
    "df=pd.read_csv('E:\\\\pythonEverything\\\\COCOMO-81.csv')\n",
    "df1=pd.get_dummies(df.dev_mode)\n",
    "df2=pd.concat([df1,df],axis='columns')\n",
    "df2.columns"
   ]
  },
  {
   "cell_type": "code",
   "execution_count": 19,
   "id": "07568a6c-8cc4-43f4-9893-85175cabc0d3",
   "metadata": {},
   "outputs": [],
   "source": [
    "cost_drivers = [\n",
    "    'rely', 'data', 'cplx', 'time', 'stor', 'virt', 'turn',\n",
    "    'acap', 'aexp', 'pcap', 'vexp', 'lexp', 'modp', 'tool', 'sced'\n",
    "]\n",
    "\n",
    "df['EAF'] = df[cost_drivers].prod(axis=1)\n",
    "df1=pd.get_dummies(df.dev_mode)\n",
    "df2=pd.concat([df1,df],axis='columns')\n",
    "df3=df2.drop(['dev_mode','num','rely', 'data', 'cplx', 'time', 'stor', 'virt', 'turn',\n",
    "     'acap', 'aexp', 'pcap', 'vexp', 'lexp', 'modp', 'tool', 'sced'],axis='columns')\n",
    "df3.head(2)\n",
    "df3['locEaf']=df3['loc']*df3['EAF']\n",
    "df3['logActual']=np.log1p(df3['actual'])\n"
   ]
  },
  {
   "cell_type": "code",
   "execution_count": 3,
   "id": "c042afeb-2612-4a76-b543-ee22135a60d6",
   "metadata": {},
   "outputs": [],
   "source": [
    "#df3=df3[~(df3['actual']>4000)]\n",
    "# df3=df3[~(df3['loc']>1000)]\n",
    " #df3=df3[~(df3['loc']>1000)]\n"
   ]
  },
  {
   "cell_type": "code",
   "execution_count": 4,
   "id": "1d588ad6-f899-472b-9feb-961398362a0b",
   "metadata": {},
   "outputs": [],
   "source": [
    "# df3=df3[~((df3['actual']>=2000) & (df3['actual']<=2500)&(df3['EAF']<=2))]\n",
    "# df3[(df3['EAF']>4)]\n"
   ]
  },
  {
   "cell_type": "code",
   "execution_count": 178,
   "id": "7dd0eece-898b-4532-b862-0cc9c0a4a8bd",
   "metadata": {},
   "outputs": [],
   "source": [
    "# sns.scatterplot(data=df3,x='loc',y='actual')\n",
    "# plt.plot([0,500],[0,500],color='red', linestyle='--', label='10x = y')\n"
   ]
  },
  {
   "cell_type": "code",
   "execution_count": 179,
   "id": "e97110f5-2f40-4de7-8338-40a84b4c86ae",
   "metadata": {},
   "outputs": [],
   "source": [
    "# for i in ['loc','EAF']:\n",
    "#     sns.scatterplot(data=df3,x=i,y='actual')\n",
    "#     plt.show()"
   ]
  },
  {
   "cell_type": "code",
   "execution_count": 180,
   "id": "c5151a36-988b-49fd-b0d3-81cced0b403f",
   "metadata": {},
   "outputs": [],
   "source": [
    "#df3[(df3['EAF']<3) & (df3['loc']>1000)]"
   ]
  },
  {
   "cell_type": "code",
   "execution_count": 181,
   "id": "bcb1216e-bc9e-4e7f-8dd6-ae5424faaea9",
   "metadata": {},
   "outputs": [],
   "source": [
    "# sns.scatterplot(data=df3,x='EAF',y='loc')\n",
    "# plt.show()"
   ]
  },
  {
   "cell_type": "code",
   "execution_count": 182,
   "id": "99efea2a-8942-4b63-9bcf-1a62c2bca3d5",
   "metadata": {},
   "outputs": [],
   "source": [
    "# for i in ['loc','EAF','locEaf','actual']:\n",
    "#     sns.scatterplot(data=df3,x=i,y='actual')\n",
    "#     plt.show()"
   ]
  },
  {
   "cell_type": "code",
   "execution_count": 5,
   "id": "089cb642-ea08-4eae-a949-c26c3d254da4",
   "metadata": {},
   "outputs": [
    {
     "data": {
      "text/html": [
       "<div>\n",
       "<style scoped>\n",
       "    .dataframe tbody tr th:only-of-type {\n",
       "        vertical-align: middle;\n",
       "    }\n",
       "\n",
       "    .dataframe tbody tr th {\n",
       "        vertical-align: top;\n",
       "    }\n",
       "\n",
       "    .dataframe thead th {\n",
       "        text-align: right;\n",
       "    }\n",
       "</style>\n",
       "<table border=\"1\" class=\"dataframe\">\n",
       "  <thead>\n",
       "    <tr style=\"text-align: right;\">\n",
       "      <th></th>\n",
       "      <th>embedded</th>\n",
       "      <th>organic</th>\n",
       "      <th>semidetached</th>\n",
       "      <th>loc</th>\n",
       "      <th>actual</th>\n",
       "      <th>EAF</th>\n",
       "      <th>locEaf</th>\n",
       "      <th>logActual</th>\n",
       "    </tr>\n",
       "  </thead>\n",
       "  <tbody>\n",
       "    <tr>\n",
       "      <th>0</th>\n",
       "      <td>True</td>\n",
       "      <td>False</td>\n",
       "      <td>False</td>\n",
       "      <td>113.0</td>\n",
       "      <td>2040.0</td>\n",
       "      <td>2.288115</td>\n",
       "      <td>258.556994</td>\n",
       "      <td>7.621195</td>\n",
       "    </tr>\n",
       "    <tr>\n",
       "      <th>1</th>\n",
       "      <td>True</td>\n",
       "      <td>False</td>\n",
       "      <td>False</td>\n",
       "      <td>293.0</td>\n",
       "      <td>1600.0</td>\n",
       "      <td>0.842266</td>\n",
       "      <td>246.784025</td>\n",
       "      <td>7.378384</td>\n",
       "    </tr>\n",
       "    <tr>\n",
       "      <th>2</th>\n",
       "      <td>False</td>\n",
       "      <td>False</td>\n",
       "      <td>True</td>\n",
       "      <td>132.0</td>\n",
       "      <td>243.0</td>\n",
       "      <td>0.346245</td>\n",
       "      <td>45.704357</td>\n",
       "      <td>5.497168</td>\n",
       "    </tr>\n",
       "    <tr>\n",
       "      <th>3</th>\n",
       "      <td>False</td>\n",
       "      <td>True</td>\n",
       "      <td>False</td>\n",
       "      <td>60.0</td>\n",
       "      <td>240.0</td>\n",
       "      <td>0.998141</td>\n",
       "      <td>59.888457</td>\n",
       "      <td>5.484797</td>\n",
       "    </tr>\n",
       "    <tr>\n",
       "      <th>4</th>\n",
       "      <td>False</td>\n",
       "      <td>True</td>\n",
       "      <td>False</td>\n",
       "      <td>16.0</td>\n",
       "      <td>33.0</td>\n",
       "      <td>0.656169</td>\n",
       "      <td>10.498712</td>\n",
       "      <td>3.526361</td>\n",
       "    </tr>\n",
       "  </tbody>\n",
       "</table>\n",
       "</div>"
      ],
      "text/plain": [
       "   embedded  organic  semidetached    loc  actual       EAF      locEaf  \\\n",
       "0      True    False         False  113.0  2040.0  2.288115  258.556994   \n",
       "1      True    False         False  293.0  1600.0  0.842266  246.784025   \n",
       "2     False    False          True  132.0   243.0  0.346245   45.704357   \n",
       "3     False     True         False   60.0   240.0  0.998141   59.888457   \n",
       "4     False     True         False   16.0    33.0  0.656169   10.498712   \n",
       "\n",
       "   logActual  \n",
       "0   7.621195  \n",
       "1   7.378384  \n",
       "2   5.497168  \n",
       "3   5.484797  \n",
       "4   3.526361  "
      ]
     },
     "execution_count": 5,
     "metadata": {},
     "output_type": "execute_result"
    }
   ],
   "source": [
    "#X=df3.drop('actual',axis='columns')\n",
    "#X\n",
    "#y=df3.actual\n",
    "#X['EAF_log'] = np.abs(np.log1p(X['EAF'] - 1))\n",
    "#X1=X.drop('EAF',axis='columns')\n",
    "#X\n",
    "locEaf=['loc','EAF']\n",
    "\n",
    "df3['locEaf']=df3[locEaf].prod(axis=1)\n",
    "# import seaborn as sns\n",
    "# sns.boxplot(df['actual'])\n",
    "df3 = df3[~((df3['locEaf'] >= 800) & (df3['locEaf'] <= 1000))]\n",
    "df3 = df3[~((df3['locEaf'] >=350) & (df3['locEaf'] <= 352))]\n",
    "\n",
    "df3.head()"
   ]
  },
  {
   "cell_type": "code",
   "execution_count": null,
   "id": "0b0e8b23-2df4-408b-89b2-9e0b1375fedc",
   "metadata": {},
   "outputs": [],
   "source": []
  },
  {
   "cell_type": "code",
   "execution_count": 6,
   "id": "8f76afa6-d2ed-4390-9598-6748827fc57e",
   "metadata": {},
   "outputs": [
    {
     "name": "stdout",
     "output_type": "stream",
     "text": [
      "[(258.556993755468, 2040.0), (246.78402465500787, 1600.0), (218.97111413522373, 2455.0), (221.9461070112, 702.0)]\n"
     ]
    }
   ],
   "source": [
    "# Filter points where actual is between 2000 and 4000\n",
    "filtered_points = df3[(df3['locEaf'] >= 200) & (df3['locEaf'] <= 400)]\n",
    "\n",
    "# Get their coordinates (loc, actual)\n",
    "coordinates = list(zip(filtered_points['locEaf'], filtered_points['actual']))\n",
    "print(coordinates)\n"
   ]
  },
  {
   "cell_type": "code",
   "execution_count": 43,
   "id": "957ac3bb-6522-4d6c-9553-a3fbcbe69320",
   "metadata": {},
   "outputs": [],
   "source": [
    "df3=df3[~((df3['locEaf'] >=200) & (df3['locEaf'] <= 230)& (df3['actual']<2000))]"
   ]
  },
  {
   "cell_type": "code",
   "execution_count": 44,
   "id": "f328d5ad-0716-45ba-b6d7-9bcaf2957d5c",
   "metadata": {},
   "outputs": [],
   "source": [
    "# df3=df3[~(df3['locEaf'] >1000)]"
   ]
  },
  {
   "cell_type": "code",
   "execution_count": 8,
   "id": "2f8f02f8-afda-4de3-b089-c130618de172",
   "metadata": {},
   "outputs": [
    {
     "data": {
      "image/png": "[encoded data removed]",
      "text/plain": [
       "<Figure size 800x500 with 1 Axes>"
      ]
     },
     "metadata": {},
     "output_type": "display_data"
    }
   ],
   "source": [
    "\n",
    "\n",
    "# Scatter plot between actual and loc\n",
    "plt.figure(figsize=(8, 5))\n",
    "sns.scatterplot(data=df3, x='locEaf', y='actual', color='dodgerblue', s=70)\n",
    "# min_val = min(df3['locEaf'].min(), df3['actual'].min())\n",
    "# max_val = max(df3['locEaf'].max(), df3['actual'].max())\n",
    "plt.plot([0,1000],[0,10000],color='red', linestyle='--', label='x = y')\n",
    "\n",
    "# Add titles and labels\n",
    "plt.title('Actual Effort vs locEaf', fontsize=14)\n",
    "plt.xlabel('locEaf', fontsize=12)\n",
    "plt.ylabel('Actual Effort (Person-Months)', fontsize=12)\n",
    "plt.grid(True)\n",
    "#plt.tight_layout()\n",
    "plt.show()\n"
   ]
  },
  {
   "cell_type": "code",
   "execution_count": 9,
   "id": "9e1e9086-19c1-4ad3-9190-b7d562f5ee79",
   "metadata": {},
   "outputs": [
    {
     "name": "stdout",
     "output_type": "stream",
     "text": [
      "[(246.78402465500787, 1600.0), (221.9461070112, 702.0)]\n"
     ]
    }
   ],
   "source": [
    "filtered_points = df3[(df3['locEaf'] >= 200) & (df3['locEaf'] <= 400) & (df3['actual']<2000)]\n",
    "coordinates = list(zip(filtered_points['locEaf'], filtered_points['actual']))\n",
    "print(coordinates)\n",
    "\n",
    "\n",
    "# df3.head()"
   ]
  },
  {
   "cell_type": "code",
   "execution_count": 10,
   "id": "f4fad980-d4de-4da4-adab-47a3d0234646",
   "metadata": {},
   "outputs": [
    {
     "data": {
      "text/html": [
       "<div>\n",
       "<style scoped>\n",
       "    .dataframe tbody tr th:only-of-type {\n",
       "        vertical-align: middle;\n",
       "    }\n",
       "\n",
       "    .dataframe tbody tr th {\n",
       "        vertical-align: top;\n",
       "    }\n",
       "\n",
       "    .dataframe thead th {\n",
       "        text-align: right;\n",
       "    }\n",
       "</style>\n",
       "<table border=\"1\" class=\"dataframe\">\n",
       "  <thead>\n",
       "    <tr style=\"text-align: right;\">\n",
       "      <th></th>\n",
       "      <th>embedded</th>\n",
       "      <th>organic</th>\n",
       "      <th>loc</th>\n",
       "      <th>EAF</th>\n",
       "    </tr>\n",
       "  </thead>\n",
       "  <tbody>\n",
       "    <tr>\n",
       "      <th>0</th>\n",
       "      <td>True</td>\n",
       "      <td>False</td>\n",
       "      <td>113.0</td>\n",
       "      <td>2.288115</td>\n",
       "    </tr>\n",
       "    <tr>\n",
       "      <th>1</th>\n",
       "      <td>True</td>\n",
       "      <td>False</td>\n",
       "      <td>293.0</td>\n",
       "      <td>0.842266</td>\n",
       "    </tr>\n",
       "    <tr>\n",
       "      <th>2</th>\n",
       "      <td>False</td>\n",
       "      <td>False</td>\n",
       "      <td>132.0</td>\n",
       "      <td>0.346245</td>\n",
       "    </tr>\n",
       "    <tr>\n",
       "      <th>3</th>\n",
       "      <td>False</td>\n",
       "      <td>True</td>\n",
       "      <td>60.0</td>\n",
       "      <td>0.998141</td>\n",
       "    </tr>\n",
       "    <tr>\n",
       "      <th>4</th>\n",
       "      <td>False</td>\n",
       "      <td>True</td>\n",
       "      <td>16.0</td>\n",
       "      <td>0.656169</td>\n",
       "    </tr>\n",
       "  </tbody>\n",
       "</table>\n",
       "</div>"
      ],
      "text/plain": [
       "   embedded  organic    loc       EAF\n",
       "0      True    False  113.0  2.288115\n",
       "1      True    False  293.0  0.842266\n",
       "2     False    False  132.0  0.346245\n",
       "3     False     True   60.0  0.998141\n",
       "4     False     True   16.0  0.656169"
      ]
     },
     "execution_count": 10,
     "metadata": {},
     "output_type": "execute_result"
    }
   ],
   "source": [
    "# import seaborn as sns\n",
    "# sns.boxplot(df3['EAF'])\n",
    "df3.head()\n",
    "X=df3.drop(['actual','locEaf','logActual','semidetached'],axis='columns')\n",
    "y=df3.actual\n",
    "y.head()\n",
    "X.head()"
   ]
  },
  {
   "cell_type": "code",
   "execution_count": 10,
   "id": "1b7672aa-edf1-4984-a63c-be47c772a751",
   "metadata": {},
   "outputs": [],
   "source": [
    "# from sklearn.linear_model import LinearRegression\n",
    "# from sklearn.model_selection import train_test_split\n",
    "# from sklearn.metrics import mean_squared_error, r2_score\n",
    "\n",
    "# X_train,X_test,y_train,y_test=train_test_split(X,y,test_size=0.2,random_state=10)\n",
    "# model=LinearRegression()\n",
    "# model.fit(X_train,y_train)\n",
    "# model.score(X_test,y_test)\n",
    "# y_pred=model.predict(X_test)\n",
    "# #mae = mean_absolute_error(y_test, y_pred)\n",
    "# rmse = np.sqrt(mean_squared_error(y_test, y_pred))\n",
    "# r2 = r2_score(y_test, y_pred)\n",
    "# print(\"\\nModel Evaluation:\")\n",
    "# #print(f\"MAE  : {mae:.2f}\")\n",
    "# print(f\"RMSE : {rmse:.2f}\")\n",
    "# print(f\"R²   : {r2:.3f}\")\n",
    "\n"
   ]
  },
  {
   "cell_type": "code",
   "execution_count": 11,
   "id": "b418ea2d-d83a-42fa-b73b-364bbe56de85",
   "metadata": {},
   "outputs": [
    {
     "data": {
      "text/plain": [
       "0    2040.0\n",
       "1    1600.0\n",
       "2     243.0\n",
       "3     240.0\n",
       "4      33.0\n",
       "Name: actual, dtype: float64"
      ]
     },
     "execution_count": 11,
     "metadata": {},
     "output_type": "execute_result"
    }
   ],
   "source": [
    "df3.head()\n",
    "X=df3.drop(['actual','EAF','loc'],axis='columns')\n",
    "y=df3.actual\n",
    "y.head()"
   ]
  },
  {
   "cell_type": "code",
   "execution_count": 13,
   "id": "5735aab0-5cbc-4c08-abb3-3319a2bc5189",
   "metadata": {},
   "outputs": [
    {
     "name": "stdout",
     "output_type": "stream",
     "text": [
      "\n",
      "Model Evaluation:\n",
      "MAE  : 488.41\n",
      "RMSE : 1317.47\n",
      "R²   : 0.820\n"
     ]
    },
    {
     "data": {
      "text/plain": [
       "0.8204206552647726"
      ]
     },
     "execution_count": 13,
     "metadata": {},
     "output_type": "execute_result"
    }
   ],
   "source": [
    "from sklearn.linear_model import LinearRegression\n",
    "from sklearn.model_selection import train_test_split\n",
    "from sklearn.metrics import mean_squared_error, r2_score,mean_absolute_error\n",
    "\n",
    "X_train,X_test,y_train,y_test=train_test_split(X,y,test_size=0.2,random_state=10)\n",
    "model=LinearRegression()\n",
    "model.fit(X_train,y_train)\n",
    "model.score(X_test,y_test)\n",
    "y_pred=model.predict(X_test)\n",
    "mae = mean_absolute_error(y_test, y_pred)\n",
    "rmse = np.sqrt(mean_squared_error(y_test, y_pred))\n",
    "r2 = r2_score(y_test, y_pred)\n",
    "print(\"\\nModel Evaluation:\")\n",
    "print(f\"MAE  : {mae:.2f}\")\n",
    "print(f\"RMSE : {rmse:.2f}\")\n",
    "print(f\"R²   : {r2:.3f}\")\n",
    "model.score(X_test,y_test)\n"
   ]
  },
  {
   "cell_type": "code",
   "execution_count": 14,
   "id": "6e09fab7-ee00-4e26-8872-17c6c520b7cf",
   "metadata": {},
   "outputs": [
    {
     "data": {
      "text/plain": [
       "0.8204206552647726"
      ]
     },
     "execution_count": 14,
     "metadata": {},
     "output_type": "execute_result"
    }
   ],
   "source": [
    "model.score(X_test,y_test)\n"
   ]
  },
  {
   "cell_type": "code",
   "execution_count": 23,
   "id": "be3be702-64b1-416a-abfb-6c581effdc4b",
   "metadata": {},
   "outputs": [
    {
     "data": {
      "image/png": "[encoded data removed]",
      "text/plain": [
       "<Figure size 1000x600 with 1 Axes>"
      ]
     },
     "metadata": {},
     "output_type": "display_data"
    }
   ],
   "source": [
    "import matplotlib.pyplot as plt\n",
    "\n",
    "# Optional: Sort values to make the line plot look cleaner\n",
    "import pandas as pd\n",
    "comparison = pd.DataFrame({'Actual': y_test, 'Predicted': y_pred})\n",
    "comparison = comparison.sort_values(by='Actual').reset_index(drop=True)\n",
    "\n",
    "# Plot actual vs predicted values\n",
    "plt.figure(figsize=(10, 6))\n",
    "plt.plot(comparison['Actual'], label='Actual', color='blue', marker='o')\n",
    "plt.plot(comparison['Predicted'], label='Predicted', color='orange', marker='x')\n",
    "\n",
    "plt.title('Actual vs Predicted Effort')\n",
    "plt.xlabel('Project Index')\n",
    "plt.ylabel('Effort')\n",
    "plt.legend()\n",
    "plt.grid(True)\n",
    "plt.show()\n"
   ]
  },
  {
   "cell_type": "code",
   "execution_count": 29,
   "id": "fe22b5ab-a208-47f1-9d82-b322aeaf8296",
   "metadata": {},
   "outputs": [
    {
     "data": {
      "text/plain": [
       "array([0.35796475, 0.66196485, 0.71558524, 0.90805712, 0.8462724 ])"
      ]
     },
     "execution_count": 29,
     "metadata": {},
     "output_type": "execute_result"
    }
   ],
   "source": [
    "from sklearn.model_selection import ShuffleSplit\n",
    "from sklearn.model_selection import cross_val_score\n",
    "\n",
    "cv=ShuffleSplit(n_splits=5,test_size=0.2,random_state=0)\n",
    "cross_val_score(LinearRegression(),X,y,cv=cv)"
   ]
  },
  {
   "cell_type": "code",
   "execution_count": 17,
   "id": "6f8f5355-a232-4794-b04c-91a5b9cc3ff1",
   "metadata": {},
   "outputs": [],
   "source": [
    "# from sklearn.model_selection import GridSearchCV, ShuffleSplit\n",
    "# from sklearn.linear_model import LinearRegression, Lasso\n",
    "# from sklearn.tree import DecisionTreeRegressor\n",
    "# import pandas as pd\n",
    "\n",
    "# def find_best_model_using_gridsearchcv(X, y):\n",
    "#     algos = {\n",
    "#         'linear_regression': {\n",
    "#             'model': LinearRegression(),  # Removed 'normalize'\n",
    "#             'params': {}  # Empty dict if you don't want to tune anything\n",
    "#         },\n",
    "#         'lasso': {\n",
    "#             'model': Lasso(),\n",
    "#             'params': {\n",
    "#                 'alpha': [1, 2],\n",
    "#                 'selection': ['random', 'cyclic']\n",
    "#             }\n",
    "#         },\n",
    "#         'decision_tree': {\n",
    "#             'model': DecisionTreeRegressor(),\n",
    "#             'params': {\n",
    "#                 'criterion': ['friedman_mse'],  # 'mse' is deprecated\n",
    "#                 'splitter': ['best', 'random']\n",
    "#             }\n",
    "#         }\n",
    "#     }\n",
    "\n",
    "#     scores = []\n",
    "#     cv = ShuffleSplit(n_splits=5, test_size=0.2, random_state=0)\n",
    "    \n",
    "#     for algo_name, config in algos.items():\n",
    "#         gs = GridSearchCV(config['model'], config['params'], cv=cv, return_train_score=False)\n",
    "#         gs.fit(X, y)\n",
    "#         scores.append({\n",
    "#             'model': algo_name,\n",
    "#             'best_score': gs.best_score_,\n",
    "#             'best_params': gs.best_params_\n",
    "#         })\n",
    "\n",
    "#     return pd.DataFrame(scores, columns=['model', 'best_score', 'best_params'])\n",
    "\n",
    "\n",
    "# find_best_model_using_gridsearchcv(X, y)\n"
   ]
  },
  {
   "cell_type": "code",
   "execution_count": 1,
   "id": "36cc9d17-80a9-4082-b90f-2369ccce2820",
   "metadata": {},
   "outputs": [],
   "source": [
    "# from sklearn.ensemble import RandomForestClassifier # ensemble when multiple algos are used to predict the output\n",
    "# model=RandomForestClassifier(n_estimators=50)\n",
    "# model.fit(X_train,y_train)\n",
    "# model.score(X_test,y_test)"
   ]
  },
  {
   "cell_type": "code",
   "execution_count": 15,
   "id": "f047aa43-016d-4a2f-9717-77458bdb8eb6",
   "metadata": {},
   "outputs": [],
   "source": [
    "# import seaborn as sns\n",
    "# sns.boxplot(df3['actual'])\n"
   ]
  },
  {
   "cell_type": "code",
   "execution_count": 16,
   "id": "f9a7b26e-44fa-4869-873a-54c6a7953a24",
   "metadata": {},
   "outputs": [],
   "source": [
    "# import matplotlib.pyplot as plt\n",
    "\n",
    "# # Example scores (replace these with your actual model results)\n",
    "# scores = {\n",
    "#     'Linear Regression': 0.903,\n",
    "#     'Decision Tree': 0.911,\n",
    "#     'Random Forest': 0.996\n",
    "# }\n",
    "\n",
    "# # Plotting\n",
    "# plt.figure(figsize=(8, 5))\n",
    "# plt.bar(scores.keys(), scores.values(), color=['skyblue', 'salmon', 'limegreen'])\n",
    "# plt.ylim(0, 1)  # R² score range\n",
    "# plt.title(\"Model Performance Comparison (R² Score)\")\n",
    "# plt.ylabel(\"R² Score\")\n",
    "# plt.xlabel(\"Model\")\n",
    "# plt.grid(axis='y', linestyle='--', alpha=0.7)\n",
    "# plt.show()\n"
   ]
  }
 ],
 "metadata": {
  "kernelspec": {
   "display_name": "Python [conda env:base] *",
   "language": "python",
   "name": "conda-base-py"
  },
  "language_info": {
   "codemirror_mode": {
    "name": "ipython",
    "version": 3
   },
   "file_extension": ".py",
   "mimetype": "text/x-python",
   "name": "python",
   "nbconvert_exporter": "python",
   "pygments_lexer": "ipython3",
   "version": "3.12.7"
  }
 },
 "nbformat": 4,
 "nbformat_minor": 5
}
